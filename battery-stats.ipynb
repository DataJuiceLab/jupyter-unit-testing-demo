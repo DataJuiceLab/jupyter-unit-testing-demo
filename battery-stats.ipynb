{
 "cells": [
  {
   "cell_type": "code",
   "execution_count": 1,
   "id": "f1a50dcb",
   "metadata": {
    "tags": [
     "imports"
    ]
   },
   "outputs": [],
   "source": [
    "import pandas as pd\n",
    "import os"
   ]
  },
  {
   "cell_type": "code",
   "execution_count": 2,
   "id": "283336e8",
   "metadata": {
    "tags": [
     "globals"
    ]
   },
   "outputs": [],
   "source": [
    "BATTERY_DATA_FILE = \"battery-state-reports-last-30-days.csv\"\n",
    "SUMMARY_OUTPUT_FILE = \"summary.csv\""
   ]
  },
  {
   "cell_type": "code",
   "execution_count": 5,
   "id": "03302740",
   "metadata": {
    "tags": [
     "functions"
    ]
   },
   "outputs": [],
   "source": [
    "def get_directory(environment_name):\n",
    "    try:\n",
    "        directory = os.environ[environment_name] # i.e. Losant generated\n",
    "    except:\n",
    "        directory = os.getcwd() # local current directory\n",
    "    return directory\n",
    "\n",
    "def get_input_directory():\n",
    "    return get_directory('INPUT_DIR')\n",
    "\n",
    "def get_output_directory():\n",
    "    return get_directory('OUTPUT_DIR')\n",
    "\n",
    "def load_data():\n",
    "    directory = get_input_directory()\n",
    "    return pd.read_csv(os.path.join(directory, BATTERY_DATA_FILE))\n",
    "\n",
    "def is_row_before_charging(row):\n",
    "    return (row.battery_loss_next_row < 0) and (row.battery_loss_this_row > 0)\n",
    "\n",
    "def remove_consecutive_same_values(df):\n",
    "    df['is_new_value'] = df.groupby(['ID'])['battery'].shift(1) != df['battery']\n",
    "    return df.loc[df['is_new_value']]\n",
    "\n",
    "def get_rows_before_charging(df):\n",
    "    # sorting not necessary, but is much easier to follow during dev\n",
    "    # df.sort_values(by=['ID','Timestamp'],inplace=True)\n",
    "    \n",
    "    df.loc[:] = remove_consecutive_same_values(df)\n",
    "    df['battery_loss_this_row'] = df.groupby(['ID'])['battery'].shift(1) - df['battery']\n",
    "    df['battery_loss_next_row'] = df['battery'] - df.groupby(['ID'])['battery'].shift(-1)\n",
    "    df.loc[:, 'is_low_before_charge'] = df.apply(is_row_before_charging, axis=1)\n",
    "    return df[df['is_low_before_charge']]\n",
    "\n",
    "def export_summary(summary_series, file_name=SUMMARY_OUTPUT_FILE):\n",
    "    directory = get_output_directory()\n",
    "    output = pd.DataFrame(summary_series).transpose()\n",
    "    output.to_csv(os.path.join(directory, file_name),index=False)\n"
   ]
  },
  {
   "cell_type": "code",
   "execution_count": 6,
   "id": "faa9b567",
   "metadata": {
    "tags": [
     "processing"
    ]
   },
   "outputs": [],
   "source": [
    "df = load_data()\n",
    "rows_before_charging = get_rows_before_charging(df)\n",
    "export_summary(df['battery'].describe())"
   ]
  },
  {
   "cell_type": "code",
   "execution_count": null,
   "id": "6356fbb2-076c-4b83-b9b5-08e5b05e1396",
   "metadata": {},
   "outputs": [],
   "source": []
  }
 ],
 "metadata": {
  "kernelspec": {
   "display_name": "Python 3",
   "language": "python",
   "name": "python3"
  },
  "language_info": {
   "codemirror_mode": {
    "name": "ipython",
    "version": 3
   },
   "file_extension": ".py",
   "mimetype": "text/x-python",
   "name": "python",
   "nbconvert_exporter": "python",
   "pygments_lexer": "ipython3",
   "version": "3.8.2"
  }
 },
 "nbformat": 4,
 "nbformat_minor": 5
}
