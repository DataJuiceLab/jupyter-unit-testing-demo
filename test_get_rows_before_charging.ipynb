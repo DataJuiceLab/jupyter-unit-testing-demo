{
 "cells": [
  {
   "cell_type": "code",
   "execution_count": 10,
   "id": "6ec86a26-2f48-44be-9e80-364048e460f5",
   "metadata": {},
   "outputs": [],
   "source": [
    "import pandas as pd\n",
    "import importlib  \n",
    "\n",
    "nb = importlib.import_module(\"ipynb.fs.defs.battery-stats\")"
   ]
  },
  {
   "cell_type": "code",
   "execution_count": 11,
   "id": "d088e29e-f6a3-4b97-9603-b14be38a6372",
   "metadata": {},
   "outputs": [],
   "source": [
    "get_rows_before_charging = nb.get_rows_before_charging"
   ]
  },
  {
   "cell_type": "code",
   "execution_count": 12,
   "id": "8a9e1536-a04c-4bf7-9bc2-8a8ffe840db7",
   "metadata": {},
   "outputs": [],
   "source": [
    "def build_battery_history(values, device_id=\"60df87b4be3fc900069dac1f\", start_time=1600000000000):\n",
    "    id_array = [device_id] * len(values)\n",
    "    timestamp_array = map(lambda t: start_time + t * 10000, range(len(values)))\n",
    "    return pd.DataFrame({\n",
    "        \"ID\": pd.Series(id_array),\n",
    "        \"battery\": pd.Series(values, dtype=\"int64\"),\n",
    "        \"Timestamp\": pd.Series(timestamp_array, dtype=\"int64\")\n",
    "    }).set_index('Timestamp')"
   ]
  },
  {
   "cell_type": "code",
   "execution_count": 13,
   "id": "e21099fa-e865-4201-829d-0389ede48175",
   "metadata": {},
   "outputs": [],
   "source": [
    "# it should return an empty DataFrame if the battery was never recharged\n",
    "df_descending_only = build_battery_history([100,99,50,0])\n",
    "assert len( get_rows_before_charging(df_descending_only) ) == 0"
   ]
  },
  {
   "cell_type": "code",
   "execution_count": 14,
   "id": "d21b4bc5-21bc-4733-ad4e-5d24463345f0",
   "metadata": {},
   "outputs": [],
   "source": [
    "# it should return an empty DataFrame if the battery was already charging and charges the whole time\n",
    "df_ascending_only = build_battery_history([0,50,99,100])\n",
    "assert len( get_rows_before_charging(df_ascending_only) ) == 0"
   ]
  },
  {
   "cell_type": "code",
   "execution_count": 15,
   "id": "0ea73844-6ffd-4ad6-88bd-281dd9ab34dd",
   "metadata": {},
   "outputs": [],
   "source": [
    "# it should return only the row(s) immediately before the battery was charging\n",
    "df_single_ascent = build_battery_history([100,50,60,40])\n",
    "result_single_ascent = get_rows_before_charging(df_single_ascent)\n",
    "assert len(result_single_ascent) == 1\n",
    "assert result_single_ascent.iloc[0]['battery'] == 50"
   ]
  },
  {
   "cell_type": "code",
   "execution_count": 16,
   "id": "8cffb08f-fc22-46d2-a788-e9db0cc14ad8",
   "metadata": {},
   "outputs": [],
   "source": [
    "# it should return multiple rows if there are multiple charge cycles\n",
    "df_two_ascents = build_battery_history([100,50,60,40,80])\n",
    "result_two_ascents = get_rows_before_charging(df_two_ascents)\n",
    "assert len(result_two_ascents) == 2\n",
    "assert result_two_ascents['battery'].mean() == 45"
   ]
  },
  {
   "cell_type": "code",
   "execution_count": 17,
   "id": "2a4de4e3-ae07-4aac-8c45-2acbc50cea6b",
   "metadata": {},
   "outputs": [],
   "source": [
    "# it should consider each device of multiple devices separately\n",
    "df_two_devices_a = build_battery_history([100,50,90,20])\n",
    "df_two_devices_b = build_battery_history([100,0,90],device_id=\"79df87b4be3fc900069dbc33\") # going from 20 to 100 should *not* be a charge\n",
    "df_two_devices = pd.concat([df_two_devices_a, df_two_devices_b])\n",
    "result_two_devices = get_rows_before_charging(df_two_devices)\n",
    "assert len(result_two_devices) == 2\n",
    "assert result_two_devices['battery'].mean() == 25     "
   ]
  },
  {
   "cell_type": "code",
   "execution_count": 20,
   "id": "ae25be31-393c-4c09-bee2-a1a36357461b",
   "metadata": {},
   "outputs": [],
   "source": [
    "# it should ignore rows with the same value as the previous row when determining change\n",
    "df_duplicate_values = build_battery_history([100,20,20,50])\n",
    "assert len( get_rows_before_charging(df_duplicate_values) ) == 1"
   ]
  }
 ],
 "metadata": {
  "kernelspec": {
   "display_name": "Python 3",
   "language": "python",
   "name": "python3"
  },
  "language_info": {
   "codemirror_mode": {
    "name": "ipython",
    "version": 3
   },
   "file_extension": ".py",
   "mimetype": "text/x-python",
   "name": "python",
   "nbconvert_exporter": "python",
   "pygments_lexer": "ipython3",
   "version": "3.8.2"
  }
 },
 "nbformat": 4,
 "nbformat_minor": 5
}
