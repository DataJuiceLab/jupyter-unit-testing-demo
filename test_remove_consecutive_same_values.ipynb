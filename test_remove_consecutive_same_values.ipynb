{
 "cells": [
  {
   "cell_type": "code",
   "execution_count": 22,
   "id": "fc1a2dd8-b69c-49f5-a35a-b7df43ad9254",
   "metadata": {},
   "outputs": [],
   "source": [
    "import pandas as pd\n",
    "import importlib  \n",
    "\n",
    "nb = importlib.import_module(\"ipynb.fs.defs.battery-stats\")"
   ]
  },
  {
   "cell_type": "code",
   "execution_count": 23,
   "id": "aff09af0-8102-469f-93d5-385165668044",
   "metadata": {},
   "outputs": [],
   "source": [
    "remove_consecutive_same_values = nb.remove_consecutive_same_values"
   ]
  },
  {
   "cell_type": "code",
   "execution_count": 24,
   "id": "bcd79308-daf7-4a09-a26d-723dea979059",
   "metadata": {},
   "outputs": [],
   "source": [
    "def build_battery_history(values, device_id=\"60df87b4be3fc900069dac1f\", start_time=1600000000000):\n",
    "    id_array = [device_id] * len(values)\n",
    "    timestamp_array = map(lambda t: start_time + t * 10000, range(len(values)))\n",
    "    return pd.DataFrame({\n",
    "        \"ID\": pd.Series(id_array),\n",
    "        \"battery\": pd.Series(values, dtype=\"int64\"),\n",
    "        \"Timestamp\": pd.Series(timestamp_array, dtype=\"int64\")\n",
    "    })"
   ]
  },
  {
   "cell_type": "code",
   "execution_count": 25,
   "id": "a14c424f-1668-45d0-9909-313286a23d38",
   "metadata": {},
   "outputs": [],
   "source": [
    "# it keeps a single value\n",
    "df_single_value = build_battery_history([25])\n",
    "remove_consecutive_same_values( df_single_value )\n",
    "assert len(df_single_value) == 1"
   ]
  },
  {
   "cell_type": "code",
   "execution_count": 26,
   "id": "067f7999-84ff-477f-9272-85736bd322c7",
   "metadata": {},
   "outputs": [],
   "source": [
    "# it removes a duplicate value\n",
    "df_duplicate_values = build_battery_history([25,25]) \n",
    "assert len( remove_consecutive_same_values( df_duplicate_values ) ) == 1"
   ]
  },
  {
   "cell_type": "code",
   "execution_count": 27,
   "id": "68736688-3e74-49c9-8cd0-15ce077740e1",
   "metadata": {},
   "outputs": [],
   "source": [
    "# it does not remove non-consecutive same values\n",
    "df_non_consecutive_same = build_battery_history([25,50,25]) \n",
    "assert len( remove_consecutive_same_values( df_non_consecutive_same ) ) == 3"
   ]
  },
  {
   "cell_type": "code",
   "execution_count": 28,
   "id": "50a7a5af-8262-4dc5-a5ca-18762ae6262b",
   "metadata": {},
   "outputs": [],
   "source": [
    "# it removes multiple duplicates\n",
    "df_multiple_duplicates = build_battery_history([25,50,50,20,20]) \n",
    "assert len( remove_consecutive_same_values( df_multiple_duplicates ) ) == 3"
   ]
  },
  {
   "cell_type": "code",
   "execution_count": 29,
   "id": "eb8754cb-131b-4a5b-b9f1-77f849661bcc",
   "metadata": {},
   "outputs": [],
   "source": [
    "# it ignores consecutive values when they are from different devices\n",
    "df_device_a = build_battery_history([25,50])\n",
    "df_device_b = build_battery_history([50,75],device_id=\"70df87b4be3fc900069ddd9\")\n",
    "df_combined = pd.concat([df_device_a,df_device_b])\n",
    "assert len(remove_consecutive_same_values( df_combined )) == 4"
   ]
  }
 ],
 "metadata": {
  "kernelspec": {
   "display_name": "Python 3",
   "language": "python",
   "name": "python3"
  },
  "language_info": {
   "codemirror_mode": {
    "name": "ipython",
    "version": 3
   },
   "file_extension": ".py",
   "mimetype": "text/x-python",
   "name": "python",
   "nbconvert_exporter": "python",
   "pygments_lexer": "ipython3",
   "version": "3.8.2"
  }
 },
 "nbformat": 4,
 "nbformat_minor": 5
}
