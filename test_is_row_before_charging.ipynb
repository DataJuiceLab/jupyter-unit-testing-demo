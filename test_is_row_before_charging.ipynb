{
 "cells": [
  {
   "cell_type": "code",
   "execution_count": 1,
   "id": "d5c2882e-bcf1-4240-a391-4c0e949b5c5d",
   "metadata": {},
   "outputs": [],
   "source": [
    "import pandas as pd\n",
    "import importlib  \n",
    "\n",
    "nb = importlib.import_module(\"ipynb.fs.defs.battery-stats\")"
   ]
  },
  {
   "cell_type": "code",
   "execution_count": 2,
   "id": "512297fa-aff7-4e69-b601-ead54d953357",
   "metadata": {},
   "outputs": [],
   "source": [
    "is_row_before_charging = nb.is_row_before_charging"
   ]
  },
  {
   "cell_type": "code",
   "execution_count": 3,
   "id": "78022aa9-1316-4a2f-b0c0-b913450f7da7",
   "metadata": {},
   "outputs": [],
   "source": [
    "# it should return True if the change from the previous row is positive (isn't charging) \n",
    "# and the change to the next row is negative (will be charging)\n",
    "about_to_charge = pd.DataFrame({\n",
    "    \"battery_loss_this_row\": [3],\n",
    "    \"battery_loss_next_row\": [-5]\n",
    "})\n",
    "assert is_row_before_charging( about_to_charge.iloc[0] )"
   ]
  },
  {
   "cell_type": "code",
   "execution_count": 4,
   "id": "ca3b4f8b-ac30-4476-aafb-c59e9ad593c9",
   "metadata": {},
   "outputs": [],
   "source": [
    "# it should return False if the change from the previous row is negative (already charging)\n",
    "charging = pd.DataFrame({\n",
    "    \"battery_loss_this_row\": [-3],\n",
    "    \"battery_loss_next_row\": [-5]\n",
    "})\n",
    "assert not is_row_before_charging( charging.iloc[0] )"
   ]
  },
  {
   "cell_type": "code",
   "execution_count": 5,
   "id": "afc838ef-9d0a-469c-a0bd-3b6bffc16a19",
   "metadata": {},
   "outputs": [],
   "source": [
    "# it should return False if the change to the previous row is positive (will not be charging)\n",
    "discharging = pd.DataFrame({\n",
    "    \"battery_loss_this_row\": [3],\n",
    "    \"battery_loss_next_row\": [5]\n",
    "})\n",
    "assert not is_row_before_charging( discharging.iloc[0] )"
   ]
  }
 ],
 "metadata": {
  "kernelspec": {
   "display_name": "Python 3 (ipykernel)",
   "language": "python",
   "name": "python3"
  },
  "language_info": {
   "codemirror_mode": {
    "name": "ipython",
    "version": 3
   },
   "file_extension": ".py",
   "mimetype": "text/x-python",
   "name": "python",
   "nbconvert_exporter": "python",
   "pygments_lexer": "ipython3",
   "version": "3.8.2"
  }
 },
 "nbformat": 4,
 "nbformat_minor": 5
}
