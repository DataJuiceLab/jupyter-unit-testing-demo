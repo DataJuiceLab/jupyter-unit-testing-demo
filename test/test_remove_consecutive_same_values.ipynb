{
 "cells": [
  {
   "cell_type": "code",
   "execution_count": 1,
   "id": "27bf0d96-b780-449d-9da4-47993ee60850",
   "metadata": {},
   "outputs": [],
   "source": [
    "import pandas as pd\n",
    "import importlib  "
   ]
  },
  {
   "cell_type": "code",
   "execution_count": 2,
   "id": "50c8e41b-8f91-4681-bda9-381ae6d6b04e",
   "metadata": {},
   "outputs": [
    {
     "name": "stdout",
     "output_type": "stream",
     "text": [
      "CPU times: user 5.55 ms, sys: 275 µs, total: 5.83 ms\n",
      "Wall time: 6.32 ms\n"
     ]
    }
   ],
   "source": [
    "%%time\n",
    "#import funkcji\n",
    "nb = importlib.import_module(\"ipynb.fs.defs.michal_battery_stats\")"
   ]
  },
  {
   "cell_type": "markdown",
   "id": "e610cab8-9a41-4aae-aaba-4acfb901c9bc",
   "metadata": {},
   "source": [
    "## proste funkcje"
   ]
  },
  {
   "cell_type": "code",
   "execution_count": 3,
   "id": "831dd5fc-67ec-446f-836c-09f8291ba349",
   "metadata": {},
   "outputs": [],
   "source": [
    "michal_func=nb.michal_func\n",
    "michal_func2=nb.michal_func2"
   ]
  },
  {
   "cell_type": "code",
   "execution_count": 4,
   "id": "dd751232-2976-4756-afc4-20593f7ebc6f",
   "metadata": {},
   "outputs": [],
   "source": [
    "# it should return an empty DataFrame if the battery was never recharged\n",
    "assert michal_func(1,2) == 3\n",
    "assert michal_func(2,2) == 4"
   ]
  },
  {
   "cell_type": "code",
   "execution_count": 5,
   "id": "ea80e937-0d89-4260-bee5-f8e98fb86cc4",
   "metadata": {},
   "outputs": [],
   "source": [
    "# it should return an empty DataFrame if the battery was never recharged\n",
    "assert michal_func2(1,2) == -1\n",
    "assert michal_func2(2,2) == 0"
   ]
  },
  {
   "cell_type": "markdown",
   "id": "bf90b088-bc2a-4350-8854-ca7d1f4783b4",
   "metadata": {},
   "source": [
    "## Na podstawie stworzonych danych tymczasowych"
   ]
  },
  {
   "cell_type": "code",
   "execution_count": 6,
   "id": "aff09af0-8102-469f-93d5-385165668044",
   "metadata": {},
   "outputs": [],
   "source": [
    "remove_consecutive_same_values = nb.remove_consecutive_same_values"
   ]
  },
  {
   "cell_type": "code",
   "execution_count": 8,
   "id": "bcd79308-daf7-4a09-a26d-723dea979059",
   "metadata": {},
   "outputs": [],
   "source": [
    "def build_battery_history(values, device_id=\"60df87b4be3fc900069dac1f\", start_time=1600000000000):\n",
    "    id_array = [device_id] * len(values)\n",
    "    values30 =  [i-30  for i in values]\n",
    "    values2 = [i+2  for i in values]\n",
    "    timestamp_array = map(lambda t: start_time + t * 10000, range(len(values)))\n",
    "    return pd.DataFrame({\n",
    "        \"ID\": pd.Series(id_array),\n",
    "        \"battery\": pd.Series(values, dtype=\"int64\"),\n",
    "        \"battery-30\": pd.Series(values30, dtype=\"int64\"),\n",
    "        \"battery+2\": pd.Series(values2, dtype=\"int64\"),\n",
    "        \"Timestamp\": pd.Series(timestamp_array, dtype=\"int64\")\n",
    "    })"
   ]
  },
  {
   "cell_type": "code",
   "execution_count": 9,
   "id": "a14c424f-1668-45d0-9909-313286a23d38",
   "metadata": {},
   "outputs": [],
   "source": [
    "# it keeps a single value\n",
    "df_single_value = build_battery_history([25])\n",
    "remove_consecutive_same_values( df_single_value )\n",
    "assert len(df_single_value) == 1"
   ]
  },
  {
   "cell_type": "code",
   "execution_count": 10,
   "id": "067f7999-84ff-477f-9272-85736bd322c7",
   "metadata": {},
   "outputs": [],
   "source": [
    "# it removes a duplicate value\n",
    "df_duplicate_values = build_battery_history([25,25]) \n",
    "assert len( remove_consecutive_same_values( df_duplicate_values ) ) == 1"
   ]
  },
  {
   "cell_type": "code",
   "execution_count": 11,
   "id": "68736688-3e74-49c9-8cd0-15ce077740e1",
   "metadata": {},
   "outputs": [],
   "source": [
    "# it does not remove non-consecutive same values\n",
    "df_non_consecutive_same = build_battery_history([25,50,25]) \n",
    "assert len( remove_consecutive_same_values( df_non_consecutive_same ) ) == 3"
   ]
  },
  {
   "cell_type": "code",
   "execution_count": 12,
   "id": "50a7a5af-8262-4dc5-a5ca-18762ae6262b",
   "metadata": {},
   "outputs": [],
   "source": [
    "# it removes multiple duplicates\n",
    "df_multiple_duplicates = build_battery_history([25,50,50,20,20]) \n",
    "assert len( remove_consecutive_same_values( df_multiple_duplicates ) ) == 3"
   ]
  },
  {
   "cell_type": "code",
   "execution_count": 13,
   "id": "eb8754cb-131b-4a5b-b9f1-77f849661bcc",
   "metadata": {},
   "outputs": [],
   "source": [
    "# it ignores consecutive values when they are from different devices\n",
    "df_device_a = build_battery_history([25,50])\n",
    "df_device_b = build_battery_history([50,75],device_id=\"70df87b4be3fc900069ddd9\")\n",
    "df_combined = pd.concat([df_device_a,df_device_b])\n",
    "assert len(remove_consecutive_same_values( df_combined )) == 4"
   ]
  },
  {
   "cell_type": "markdown",
   "id": "1ae8b0e7-86de-4fe6-9b79-0dc31c36c05f",
   "metadata": {
    "tags": []
   },
   "source": [
    "## na podstawie pliku"
   ]
  },
  {
   "cell_type": "code",
   "execution_count": 14,
   "id": "eda32c1e-3c97-4d66-959e-79c2a5c8242e",
   "metadata": {},
   "outputs": [],
   "source": [
    "load_data = nb.load_data\n",
    "battery_minus_30 = nb.battery_minus_30\n",
    "battery_plus_2 = nb.battery_plus_2"
   ]
  },
  {
   "cell_type": "code",
   "execution_count": 15,
   "id": "3801e855-dbeb-4d7e-8e53-67f5216a23f9",
   "metadata": {},
   "outputs": [
    {
     "data": {
      "text/html": [
       "<div>\n",
       "<style scoped>\n",
       "    .dataframe tbody tr th:only-of-type {\n",
       "        vertical-align: middle;\n",
       "    }\n",
       "\n",
       "    .dataframe tbody tr th {\n",
       "        vertical-align: top;\n",
       "    }\n",
       "\n",
       "    .dataframe thead th {\n",
       "        text-align: right;\n",
       "    }\n",
       "</style>\n",
       "<table border=\"1\" class=\"dataframe\">\n",
       "  <thead>\n",
       "    <tr style=\"text-align: right;\">\n",
       "      <th></th>\n",
       "      <th>ID</th>\n",
       "      <th>Timestamp</th>\n",
       "      <th>battery</th>\n",
       "      <th>battery-30</th>\n",
       "      <th>battery+2</th>\n",
       "    </tr>\n",
       "  </thead>\n",
       "  <tbody>\n",
       "    <tr>\n",
       "      <th>0</th>\n",
       "      <td>60df87b4be3fc900069dac1f</td>\n",
       "      <td>1625262191000</td>\n",
       "      <td>100</td>\n",
       "      <td>70</td>\n",
       "      <td>102</td>\n",
       "    </tr>\n",
       "    <tr>\n",
       "      <th>1</th>\n",
       "      <td>60df87b4be3fc900069dac20</td>\n",
       "      <td>1625262191000</td>\n",
       "      <td>100</td>\n",
       "      <td>70</td>\n",
       "      <td>102</td>\n",
       "    </tr>\n",
       "    <tr>\n",
       "      <th>2</th>\n",
       "      <td>60df87b4be3fc900069dac21</td>\n",
       "      <td>1625262191000</td>\n",
       "      <td>100</td>\n",
       "      <td>70</td>\n",
       "      <td>102</td>\n",
       "    </tr>\n",
       "    <tr>\n",
       "      <th>3</th>\n",
       "      <td>60df87b4be3fc900069dac22</td>\n",
       "      <td>1625262191000</td>\n",
       "      <td>100</td>\n",
       "      <td>70</td>\n",
       "      <td>102</td>\n",
       "    </tr>\n",
       "    <tr>\n",
       "      <th>4</th>\n",
       "      <td>60df87b4be3fc900069dac1f</td>\n",
       "      <td>1625262311000</td>\n",
       "      <td>100</td>\n",
       "      <td>70</td>\n",
       "      <td>102</td>\n",
       "    </tr>\n",
       "  </tbody>\n",
       "</table>\n",
       "</div>"
      ],
      "text/plain": [
       "                         ID      Timestamp  battery  battery-30  battery+2\n",
       "0  60df87b4be3fc900069dac1f  1625262191000      100          70        102\n",
       "1  60df87b4be3fc900069dac20  1625262191000      100          70        102\n",
       "2  60df87b4be3fc900069dac21  1625262191000      100          70        102\n",
       "3  60df87b4be3fc900069dac22  1625262191000      100          70        102\n",
       "4  60df87b4be3fc900069dac1f  1625262311000      100          70        102"
      ]
     },
     "execution_count": 15,
     "metadata": {},
     "output_type": "execute_result"
    }
   ],
   "source": [
    "df = load_data()\n",
    "df.head()"
   ]
  },
  {
   "cell_type": "code",
   "execution_count": 16,
   "id": "ea39d4a7-6cd4-4c08-b9b9-19944a320b48",
   "metadata": {},
   "outputs": [],
   "source": [
    "for index, row in df.iterrows():\n",
    "    assert battery_minus_30(row.battery) == row['battery-30']\n",
    "    assert battery_plus_2(row.battery) == row['battery+2']"
   ]
  },
  {
   "cell_type": "markdown",
   "id": "0fde71a8-47ea-4b1b-90a1-1e90eea82af4",
   "metadata": {},
   "source": [
    "## TODO"
   ]
  },
  {
   "cell_type": "markdown",
   "id": "bfb88144-49ea-4a2c-960e-f408fd7b4933",
   "metadata": {},
   "source": [
    "1. info na temat rekordu w którym jest błąd\n",
    "2. zewnętrzne odpalanie wszystkich testów z linii komend\n",
    "3. importowanie funkcji z innych katalogów\n",
    "4. research odnośnie tagów chunkow"
   ]
  },
  {
   "cell_type": "markdown",
   "id": "7b3f6199-66f0-4f9d-a881-1b109ca4d3cd",
   "metadata": {},
   "source": [
    "## PO CO"
   ]
  },
  {
   "cell_type": "markdown",
   "id": "d6f349a5-5946-41d5-8efd-b1989f755e43",
   "metadata": {},
   "source": [
    "1. aby testy były w innych plikach/odseparowane od funkcji i ich wykorzystania\n",
    "2. aby spisywać testy w plikach\n",
    "3. aby można było wykonać wszystkie testy wszystkich użytkowników\n",
    "4. aby testy były wykonywane przy każdym commicie na bazę automatycznie\n",
    "5. aby każdy był odpowiedzialny za to, iż swoją zmianą nie wywala jakichś testó\n"
   ]
  }
 ],
 "metadata": {
  "kernelspec": {
   "display_name": "Python [conda env:test] (Local)",
   "language": "python",
   "name": "local-conda-env-test-py"
  },
  "language_info": {
   "codemirror_mode": {
    "name": "ipython",
    "version": 3
   },
   "file_extension": ".py",
   "mimetype": "text/x-python",
   "name": "python",
   "nbconvert_exporter": "python",
   "pygments_lexer": "ipython3",
   "version": "3.7.12"
  }
 },
 "nbformat": 4,
 "nbformat_minor": 5
}
