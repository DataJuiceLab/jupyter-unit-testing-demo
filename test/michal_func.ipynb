{
 "cells": [
  {
   "cell_type": "code",
   "execution_count": 4,
   "id": "bdb32944",
   "metadata": {
    "tags": [
     "functions"
    ]
   },
   "outputs": [],
   "source": [
    "def michal_func(x,y):\n",
    "    return x+y\n",
    "\n",
    "\n",
    "def michal_func2(x,y):\n",
    "    return x-y\n",
    "\n"
   ]
  }
 ],
 "metadata": {
  "kernelspec": {
   "display_name": "Python [conda env:esad] (Local)",
   "language": "python",
   "name": "local-conda-env-esad-py"
  },
  "language_info": {
   "codemirror_mode": {
    "name": "ipython",
    "version": 3
   },
   "file_extension": ".py",
   "mimetype": "text/x-python",
   "name": "python",
   "nbconvert_exporter": "python",
   "pygments_lexer": "ipython3",
   "version": "3.7.12"
  }
 },
 "nbformat": 4,
 "nbformat_minor": 5
}
