{
 "cells": [
  {
   "cell_type": "code",
   "execution_count": 1,
   "id": "6ec86a26-2f48-44be-9e80-364048e460f5",
   "metadata": {},
   "outputs": [
    {
     "name": "stdout",
     "output_type": "stream",
     "text": [
      "000\n",
      "importing Jupyter notebook from michal_func.ipynb\n",
      "111\n",
      "importing Jupyter notebook from michal_battery_stats.ipynb\n",
      "222\n",
      "CPU times: user 196 ms, sys: 8.41 ms, total: 205 ms\n",
      "Wall time: 5.2 s\n"
     ]
    }
   ],
   "source": [
    "%%time\n",
    "import pandas as pd\n",
    "import import_ipynb #importnb\n",
    "print (\"000\")\n",
    "from michal_func import michal_func\n",
    "print (\"111\")\n",
    "from michal_battery_stats import get_input_directory #importuje funkcję ale przetwarza cały notebook\n",
    "print (\"222\")\n"
   ]
  },
  {
   "cell_type": "code",
   "execution_count": 2,
   "id": "5824d564-ec3c-4856-8347-0a9ccc014f24",
   "metadata": {},
   "outputs": [],
   "source": [
    "# it should return an empty DataFrame if the battery was never recharged\n",
    "assert michal_func(1,2) == 3\n",
    "assert michal_func(2,2) == 4"
   ]
  },
  {
   "cell_type": "code",
   "execution_count": 4,
   "id": "e8c82cf5-2636-4fe2-afc7-f83e4358e895",
   "metadata": {},
   "outputs": [
    {
     "ename": "NameError",
     "evalue": "name 'michal_func2' is not defined",
     "output_type": "error",
     "traceback": [
      "\u001b[0;31m---------------------------------------------------------------------------\u001b[0m",
      "\u001b[0;31mNameError\u001b[0m                                 Traceback (most recent call last)",
      "\u001b[0;32m/tmp/ipykernel_15191/4188492806.py\u001b[0m in \u001b[0;36m<module>\u001b[0;34m\u001b[0m\n\u001b[1;32m      1\u001b[0m \u001b[0;31m# it should return an empty DataFrame if the battery was never recharged\u001b[0m\u001b[0;34m\u001b[0m\u001b[0;34m\u001b[0m\u001b[0;34m\u001b[0m\u001b[0m\n\u001b[0;32m----> 2\u001b[0;31m \u001b[0;32massert\u001b[0m \u001b[0mmichal_func2\u001b[0m\u001b[0;34m(\u001b[0m\u001b[0;36m1\u001b[0m\u001b[0;34m,\u001b[0m\u001b[0;36m2\u001b[0m\u001b[0;34m)\u001b[0m \u001b[0;34m==\u001b[0m \u001b[0;34m-\u001b[0m\u001b[0;36m1\u001b[0m\u001b[0;34m\u001b[0m\u001b[0;34m\u001b[0m\u001b[0m\n\u001b[0m\u001b[1;32m      3\u001b[0m \u001b[0;32massert\u001b[0m \u001b[0mmichal_func2\u001b[0m\u001b[0;34m(\u001b[0m\u001b[0;36m2\u001b[0m\u001b[0;34m,\u001b[0m\u001b[0;36m2\u001b[0m\u001b[0;34m)\u001b[0m \u001b[0;34m==\u001b[0m \u001b[0;36m0\u001b[0m\u001b[0;34m\u001b[0m\u001b[0;34m\u001b[0m\u001b[0m\n",
      "\u001b[0;31mNameError\u001b[0m: name 'michal_func2' is not defined"
     ]
    }
   ],
   "source": [
    "# it should return an empty DataFrame if the battery was never recharged\n",
    "assert michal_func2(1,2) == -1\n",
    "assert michal_func2(2,2) == 0"
   ]
  }
 ],
 "metadata": {
  "kernelspec": {
   "display_name": "Python [conda env:test] (Local)",
   "language": "python",
   "name": "local-conda-env-test-py"
  },
  "language_info": {
   "codemirror_mode": {
    "name": "ipython",
    "version": 3
   },
   "file_extension": ".py",
   "mimetype": "text/x-python",
   "name": "python",
   "nbconvert_exporter": "python",
   "pygments_lexer": "ipython3",
   "version": "3.7.12"
  }
 },
 "nbformat": 4,
 "nbformat_minor": 5
}
